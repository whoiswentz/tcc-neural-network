{
  "nbformat": 4,
  "nbformat_minor": 0,
  "metadata": {
    "colab": {
      "name": "densenet.ipynb",
      "version": "0.3.2",
      "provenance": [],
      "collapsed_sections": [],
      "toc_visible": true,
      "include_colab_link": true
    },
    "kernelspec": {
      "name": "python3",
      "display_name": "Python 3"
    },
    "accelerator": "TPU"
  },
  "cells": [
    {
      "cell_type": "markdown",
      "metadata": {
        "id": "view-in-github",
        "colab_type": "text"
      },
      "source": [
        "<a href=\"https://colab.research.google.com/github/whoiswentz/tcc-neural-network/blob/master/densenet.ipynb\" target=\"_parent\"><img src=\"https://colab.research.google.com/assets/colab-badge.svg\" alt=\"Open In Colab\"/></a>"
      ]
    },
    {
      "metadata": {
        "id": "_OrJtNd3L257",
        "colab_type": "code",
        "colab": {}
      },
      "cell_type": "code",
      "source": [
        "from keras.applications.densenet import DenseNet169\n",
        "from keras.preprocessing import image\n",
        "from keras.applications.densenet import preprocess_input\n",
        "from keras.preprocessing.image import ImageDataGenerator\n",
        "from keras.layers import Input, Flatten, Dense\n",
        "from keras.models import Model\n",
        "\n",
        "from keras import losses\n",
        "from keras import optimizers\n",
        "from keras import activations\n",
        "\n",
        "import tensorflow as tf\n",
        "\n",
        "import numpy as np"
      ],
      "execution_count": 0,
      "outputs": []
    },
    {
      "metadata": {
        "id": "06sgAc-en-ai",
        "colab_type": "code",
        "colab": {}
      },
      "cell_type": "code",
      "source": [
        "# Mount the Google Drive folder to get the dataset\n",
        "from google.colab import drive\n",
        "drive.mount(GOOGLE_DRIVE_MOUNT_DIR)"
      ],
      "execution_count": 0,
      "outputs": []
    },
    {
      "metadata": {
        "id": "DMwkv6UCL26A",
        "colab_type": "code",
        "colab": {}
      },
      "cell_type": "code",
      "source": [
        "GOOGLE_DRIVE_MOUNT_DIR = \"/content/drive\"\n",
        "\n",
        "TRAIN_PATH = \"../content/drive/My Drive/BreakHis/Dataset_Resized/Binary/train\"\n",
        "TEST_PATH = \"../content/drive/My Drive/BreakHis/Dataset_Resized/Binary/test\"\n",
        "\n",
        "MULTICLASS_TRAIN_PATH = \"../content/drive/My Drive/BreakHis/Dataset_Resized/8Class/train\"\n",
        "MULTICLASS_TEST_PATH = \"../content/drive/My Drive/BreakHis/Dataset_Resized/8Class/test\"\n",
        "\n",
        "CHECK_POINT_PATH = \"../content/drive/My Drive/BreakHis/{}.ckpt\"\n",
        "\n",
        "BATCH_SIZE = 128\n",
        "EPOCHS = 50"
      ],
      "execution_count": 0,
      "outputs": []
    },
    {
      "metadata": {
        "id": "rqtyX5gQL26F",
        "colab_type": "code",
        "colab": {}
      },
      "cell_type": "code",
      "source": [
        "def create_densenet_model(output_space):\n",
        "    # Get back the convolutional part of a Densenet network trained on ImageNet\n",
        "    base_densenet_model = DenseNet169(weights='imagenet', include_top=False, input_shape=(175, 115, 3))\n",
        "\n",
        "    #Add a layer where input is the output of the second last layer \n",
        "    x = Flatten(name=\"flatten\")(base_densenet_model.layers[-2].output)\n",
        "    x = Dense(output_space, activation=activations.softmax, name='predictions')(x)\n",
        "\n",
        "    #Create your own model\n",
        "    densenet = Model(input=base_densenet_model.get_input_at(0), output=x)\n",
        "    \n",
        "    # Freezing the first five layers\n",
        "    half_number_of_layers = int(np.floor(len(densenet.layers) / 2))\n",
        "    for layer in densenet.layers[:half_number_of_layers]:\n",
        "        layer.trainable = False\n",
        "\n",
        "    # Compoling the Densenet model\n",
        "    densenet.compile(loss=\"categorical_crossentropy\", optimizer=\"rmsprop\")\n",
        "    \n",
        "    # Show the neural network summary\n",
        "    # densenet.summary()\n",
        "\n",
        "    return densenet"
      ],
      "execution_count": 0,
      "outputs": []
    },
    {
      "metadata": {
        "id": "9-aDZRE1XJ1h",
        "colab_type": "text"
      },
      "cell_type": "markdown",
      "source": [
        "# Tumor Class\n",
        "\n",
        "The tumos class has two categories, benign and milignants."
      ]
    },
    {
      "metadata": {
        "id": "51BAULk9Tp8g",
        "colab_type": "code",
        "outputId": "a12d13f9-76bf-462e-8489-ba20ed6e19cc",
        "colab": {
          "base_uri": "https://localhost:8080/",
          "height": 71
        }
      },
      "cell_type": "code",
      "source": [
        "densenet_tumor_class = create_densenet_model(2)"
      ],
      "execution_count": 0,
      "outputs": [
        {
          "output_type": "stream",
          "text": [
            "/usr/local/lib/python3.6/dist-packages/ipykernel_launcher.py:10: UserWarning: Update your `Model` call to the Keras 2 API: `Model(inputs=Tensor(\"in..., outputs=Tensor(\"pr...)`\n",
            "  # Remove the CWD from sys.path while we load stuff.\n"
          ],
          "name": "stderr"
        }
      ]
    },
    {
      "metadata": {
        "id": "wJalBCm8L26K",
        "colab_type": "code",
        "colab": {}
      },
      "cell_type": "code",
      "source": [
        "# TUMOR CLASS\n",
        "\n",
        "datagen = ImageDataGenerator()\n",
        "\n",
        "train_data_generator = datagen.flow_from_directory(\n",
        "    TRAIN_PATH,\n",
        "    target_size=(350, 230),\n",
        "    batch_size=BATCH_SIZE,\n",
        "    class_mode=\"categorical\")\n",
        "\n",
        "test_data_generator = datagen.flow_from_directory(\n",
        "    TEST_PATH,\n",
        "    target_size=(350, 230),\n",
        "    batch_size=BATCH_SIZE,\n",
        "    class_mode=\"categorical\")\n",
        "\n",
        "train_data_generator.class_indices\n",
        "test_data_generator.class_indices\n",
        "\n",
        "# Create checkpoint callback\n",
        "# To resume the training\n",
        "\n",
        "tumor_class_cp_callback = tf.keras.callbacks.ModelCheckpoint(\n",
        "    CHECK_POINT_PATH.format(\"tumor_class\"), \n",
        "    save_weights_only=False, \n",
        "    period=5,\n",
        "    verbose=1)"
      ],
      "execution_count": 0,
      "outputs": []
    },
    {
      "metadata": {
        "id": "Qu79ThWDnNDC",
        "colab_type": "code",
        "colab": {}
      },
      "cell_type": "code",
      "source": [
        "steps_per_epoch = int(\n",
        "    np.ceil(densenet_tumor_class.input_shape[1] / float(BATCH_SIZE)))\n",
        "\n",
        "densenet_tumor_class.fit_generator(\n",
        "    generator=train_data_generator,\n",
        "    validation_data=test_data_generator,\n",
        "    validation_steps=steps_per_epoch,\n",
        "    epochs=EPOCHS,\n",
        "    steps_per_epoch=steps_per_epoch,\n",
        "    callbacks = [tumor_class_cp_callback],\n",
        "    workers=4)"
      ],
      "execution_count": 0,
      "outputs": []
    },
    {
      "metadata": {
        "id": "FydOddMbW4CD",
        "colab_type": "text"
      },
      "cell_type": "markdown",
      "source": [
        "# Tumor Type"
      ]
    },
    {
      "metadata": {
        "id": "TCOMMhfnW2iL",
        "colab_type": "code",
        "colab": {}
      },
      "cell_type": "code",
      "source": [
        "densenet_tumor_type = create_densenet_model(10)"
      ],
      "execution_count": 0,
      "outputs": []
    },
    {
      "metadata": {
        "id": "W7rdBfzxnUcB",
        "colab_type": "code",
        "colab": {}
      },
      "cell_type": "code",
      "source": [
        "# TUMOR TYPE\n",
        "\n",
        "datagen = ImageDataGenerator()\n",
        "\n",
        "tumor_type_train_data_generator = datagen.flow_from_directory(\n",
        "    MULTICLASS_TRAIN_PATH,\n",
        "    target_size=(350, 230),\n",
        "    batch_size=BATCH_SIZE,\n",
        "    class_mode=\"categorical\")\n",
        "\n",
        "tumor_type_test_data_generator = datagen.flow_from_directory(\n",
        "    MULTICLASS_TEST_PATH,\n",
        "    target_size=(350, 230),\n",
        "    batch_size=BATCH_SIZE,\n",
        "    class_mode=\"categorical\")\n",
        "\n",
        "tumor_type_train_data_generator.class_indices\n",
        "tumor_type_test_data_generator.class_indices\n",
        "\n",
        "# Create checkpoint callback\n",
        "# To resume the training\n",
        "\n",
        "tumor_type_cp_callback = tf.keras.callbacks.ModelCheckpoint(\n",
        "    CHECK_POINT_PATH.format(\"tumor_type\"), \n",
        "    save_weights_only=False, \n",
        "    period=5,\n",
        "    verbose=1)"
      ],
      "execution_count": 0,
      "outputs": []
    },
    {
      "metadata": {
        "id": "TKp0QEqAoNK8",
        "colab_type": "code",
        "colab": {}
      },
      "cell_type": "code",
      "source": [
        "steps_per_epoch = int(\n",
        "    np.ceil(densenet_tumor_class.input_shape[1] / float(BATCH_SIZE)))\n",
        "\n",
        "densenet_tumor_class.fit_generator(\n",
        "    generator=train_data_generator,\n",
        "    validation_data=test_data_generator,\n",
        "    validation_steps=steps_per_epoch,\n",
        "    epochs=EPOCHS,\n",
        "    steps_per_epoch=steps_per_epoch,\n",
        "    callbacks = [tumor_type_cp_callback],\n",
        "    workers=4)"
      ],
      "execution_count": 0,
      "outputs": []
    },
    {
      "metadata": {
        "id": "bLsSGV1_HFS6",
        "colab_type": "code",
        "colab": {}
      },
      "cell_type": "code",
      "source": [
        "import pathlib\n",
        "\n",
        "# Sort the checkpoints by modification time.\n",
        "checkpoints = pathlib.Path(checkpoint_dir).glob(\"*.index\")\n",
        "checkpoints = sorted(checkpoints, key=lambda cp:cp.stat().st_mtime)\n",
        "checkpoints = [cp.with_suffix('') for cp in checkpoints]\n",
        "latest = str(checkpoints[-1])\n",
        "print(checkpoints)\n",
        "\n",
        "print(\"TUMOR CLASS ACC\")\n",
        "model = create_model()\n",
        "model.load_weights(latest)\n",
        "loss, acc = model.evaluate(test_images, test_labels)\n",
        "print(\"Restored model, accuracy: {:5.2f}%\".format(100*acc))"
      ],
      "execution_count": 0,
      "outputs": []
    },
    {
      "metadata": {
        "id": "Z3ga0j9d_y4-",
        "colab_type": "code",
        "colab": {}
      },
      "cell_type": "code",
      "source": [
        ""
      ],
      "execution_count": 0,
      "outputs": []
    }
  ]
}