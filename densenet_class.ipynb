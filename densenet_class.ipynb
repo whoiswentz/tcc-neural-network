{
  "nbformat": 4,
  "nbformat_minor": 0,
  "metadata": {
    "colab": {
      "name": "densenet_class.ipynb",
      "version": "0.3.2",
      "provenance": [],
      "collapsed_sections": [],
      "toc_visible": true,
      "include_colab_link": true
    },
    "kernelspec": {
      "name": "python3",
      "display_name": "Python 3"
    },
    "accelerator": "TPU"
  },
  "cells": [
    {
      "cell_type": "markdown",
      "metadata": {
        "id": "view-in-github",
        "colab_type": "text"
      },
      "source": [
        "<a href=\"https://colab.research.google.com/github/whoiswentz/tcc-neural-network/blob/master/densenet_class.ipynb\" target=\"_parent\"><img src=\"https://colab.research.google.com/assets/colab-badge.svg\" alt=\"Open In Colab\"/></a>"
      ]
    },
    {
      "metadata": {
        "id": "_OrJtNd3L257",
        "colab_type": "code",
        "colab": {}
      },
      "cell_type": "code",
      "source": [
        "import tensorflow as tf\n",
        "import numpy as np\n",
        "\n",
        "from tensorflow.keras.applications.densenet import DenseNet169, DenseNet201\n",
        "from tensorflow.keras.preprocessing import image\n",
        "from tensorflow.keras.applications.densenet import preprocess_input\n",
        "from tensorflow.keras.preprocessing.image import ImageDataGenerator\n",
        "from tensorflow.keras.layers import Input, Flatten, Dense\n",
        "from tensorflow.keras.models import Model\n",
        "\n",
        "from tensorflow.keras.models import load_model\n",
        "\n",
        "from tensorflow.keras import losses\n",
        "from tensorflow.keras import optimizers\n",
        "from tensorflow.keras import activations\n"
      ],
      "execution_count": 0,
      "outputs": []
    },
    {
      "metadata": {
        "id": "06sgAc-en-ai",
        "colab_type": "code",
        "outputId": "f91d400c-0991-411c-a86a-3254a7df812e",
        "colab": {
          "base_uri": "https://localhost:8080/",
          "height": 122
        }
      },
      "cell_type": "code",
      "source": [
        "# Mount the Google Drive folder to get the dataset\n",
        "from google.colab import drive\n",
        "\n",
        "GOOGLE_DRIVE_MOUNT_DIR = \"/content/drive\"\n",
        "drive.mount(GOOGLE_DRIVE_MOUNT_DIR, force_remount=True)"
      ],
      "execution_count": 3,
      "outputs": [
        {
          "output_type": "stream",
          "text": [
            "Go to this URL in a browser: https://accounts.google.com/o/oauth2/auth?client_id=947318989803-6bn6qk8qdgf4n4g3pfee6491hc0brc4i.apps.googleusercontent.com&redirect_uri=urn%3Aietf%3Awg%3Aoauth%3A2.0%3Aoob&scope=email%20https%3A%2F%2Fwww.googleapis.com%2Fauth%2Fdocs.test%20https%3A%2F%2Fwww.googleapis.com%2Fauth%2Fdrive%20https%3A%2F%2Fwww.googleapis.com%2Fauth%2Fdrive.photos.readonly%20https%3A%2F%2Fwww.googleapis.com%2Fauth%2Fpeopleapi.readonly&response_type=code\n",
            "\n",
            "Enter your authorization code:\n",
            "··········\n",
            "Mounted at /content/drive\n"
          ],
          "name": "stdout"
        }
      ]
    },
    {
      "metadata": {
        "id": "rqtyX5gQL26F",
        "colab_type": "code",
        "colab": {}
      },
      "cell_type": "code",
      "source": [
        "def create_densenet_model(output_space):\n",
        "    # Get back the convolutional part of a Densenet network trained on ImageNet\n",
        "    base_densenet_model = DenseNet169(weights='imagenet', include_top=False, input_shape=(175, 115, 3))\n",
        "\n",
        "    #Add a layer where input is the output of the second last layer \n",
        "    x = Flatten(name=\"flatten\")(base_densenet_model.layers[-2].output)\n",
        "    x = Dense(output_space, activation=activations.softmax, name='predictions')(x)\n",
        "\n",
        "    #Create your own model\n",
        "    densenet = Model(inputs=base_densenet_model.get_input_at(0), outputs=x)\n",
        "    \n",
        "    # Freezing the first five layers\n",
        "    #half_number_of_layers = int(np.floor(len(densenet.layers) - 2))\n",
        "    #for layer in densenet.layers[:half_number_of_layers]:\n",
        "    #    layer.trainable = False\n",
        "\n",
        "    # Compoling the Densenet model\n",
        "    # adam\n",
        "    # rmsprop\n",
        "    densenet.compile(loss=\"categorical_crossentropy\", optimizer=\"adam\")\n",
        "    \n",
        "    # Show the neural network summary\n",
        "    # densenet.summary()\n",
        "\n",
        "    return densenet"
      ],
      "execution_count": 0,
      "outputs": []
    },
    {
      "metadata": {
        "id": "65thrSW9FD0N",
        "colab_type": "text"
      },
      "cell_type": "markdown",
      "source": [
        "# Tumor class\n",
        "\n",
        "The class of breast tumors are classified in two classes, benign  and malignant"
      ]
    },
    {
      "metadata": {
        "id": "QP4fwQ2NX39e",
        "colab_type": "code",
        "colab": {}
      },
      "cell_type": "code",
      "source": [
        "TRAIN_PATH = \"../content/drive/My Drive/BreakHis/Dataset/train/Tumor Class\"\n",
        "CHECK_POINT_PATH = \"../content/drive/My Drive/TCC Models/Tumor Class/{}.hdf5\""
      ],
      "execution_count": 0,
      "outputs": []
    },
    {
      "metadata": {
        "id": "51BAULk9Tp8g",
        "colab_type": "code",
        "outputId": "c22d967b-3758-4562-a2c5-21d3062b930c",
        "colab": {
          "base_uri": "https://localhost:8080/",
          "height": 139
        }
      },
      "cell_type": "code",
      "source": [
        "BATCH_SIZE = 64\n",
        "EPOCHS = 50\n",
        "\n",
        "# 22 + 23 \n",
        "#densenet_tumor_class = create_densenet_model(2)\n",
        "\n",
        "model_file = \"tumor_class_5_data_aug-21-0.44\"\n",
        "model_path = CHECK_POINT_PATH.format(model_file)\n",
        "densenet_tumor_class = load_model(model_path)"
      ],
      "execution_count": 0,
      "outputs": [
        {
          "output_type": "stream",
          "text": [
            "WARNING:tensorflow:From /usr/local/lib/python3.6/dist-packages/tensorflow/python/ops/resource_variable_ops.py:435: colocate_with (from tensorflow.python.framework.ops) is deprecated and will be removed in a future version.\n",
            "Instructions for updating:\n",
            "Colocations handled automatically by placer.\n",
            "WARNING:tensorflow:From /usr/local/lib/python3.6/dist-packages/tensorflow/python/ops/math_ops.py:3066: to_int32 (from tensorflow.python.ops.math_ops) is deprecated and will be removed in a future version.\n",
            "Instructions for updating:\n",
            "Use tf.cast instead.\n"
          ],
          "name": "stdout"
        }
      ]
    },
    {
      "metadata": {
        "id": "wJalBCm8L26K",
        "colab_type": "code",
        "outputId": "ab48bc18-a0ed-4b82-ec50-0369aaa53e8c",
        "colab": {
          "base_uri": "https://localhost:8080/",
          "height": 68
        }
      },
      "cell_type": "code",
      "source": [
        "TARGET_SIZE = (175, 115)\n",
        "\n",
        "datagen = ImageDataGenerator(\n",
        "    horizontal_flip=True, \n",
        "    vertical_flip=True,\n",
        "    validation_split=0.25)\n",
        "\n",
        "train_data_generator = datagen.flow_from_directory(\n",
        "    TRAIN_PATH,\n",
        "    shuffle=True,\n",
        "    target_size=TARGET_SIZE,\n",
        "    batch_size=BATCH_SIZE,\n",
        "    class_mode=\"categorical\",\n",
        "    subset=\"training\")\n",
        "\n",
        "validation_data_generator = datagen.flow_from_directory(\n",
        "    TRAIN_PATH,\n",
        "    shuffle=True,\n",
        "    target_size=TARGET_SIZE,\n",
        "    batch_size=BATCH_SIZE,\n",
        "    class_mode=\"categorical\",\n",
        "    subset=\"validation\")\n",
        "\n",
        "tumor_class_cp_callback = tf.keras.callbacks.ModelCheckpoint(\n",
        "    CHECK_POINT_PATH.format(\"tumor_class_6_data_aug-{epoch:02d}-{val_loss:.2f}\"),\n",
        "    monitor='val_acc',\n",
        "    period=1,\n",
        "    save_best_only=False,\n",
        "    verbose=1)\n",
        "\n",
        "train_data_generator.class_indices"
      ],
      "execution_count": 0,
      "outputs": [
        {
          "output_type": "stream",
          "text": [
            "Found 2400 images belonging to 2 classes.\n",
            "Found 800 images belonging to 2 classes.\n"
          ],
          "name": "stdout"
        },
        {
          "output_type": "execute_result",
          "data": {
            "text/plain": [
              "{'Benign': 0, 'Malignant': 1}"
            ]
          },
          "metadata": {
            "tags": []
          },
          "execution_count": 10
        }
      ]
    },
    {
      "metadata": {
        "id": "Qu79ThWDnNDC",
        "colab_type": "code",
        "colab": {}
      },
      "cell_type": "code",
      "source": [
        "densenet_tumor_class.fit_generator(\n",
        "    generator=train_data_generator,\n",
        "    validation_data=validation_data_generator,\n",
        "    epochs=EPOCHS,\n",
        "    callbacks = [tumor_class_cp_callback],\n",
        "    workers=4)"
      ],
      "execution_count": 0,
      "outputs": []
    },
    {
      "metadata": {
        "id": "r8hQcyBKXhpH",
        "colab_type": "text"
      },
      "cell_type": "markdown",
      "source": [
        "# Tumor class test"
      ]
    },
    {
      "metadata": {
        "id": "8QBoaWdpC0PF",
        "colab_type": "code",
        "outputId": "d6815d00-7851-4984-87f4-5d566de93767",
        "colab": {
          "base_uri": "https://localhost:8080/",
          "height": 34
        }
      },
      "cell_type": "code",
      "source": [
        "TEST_PATH = \"../content/drive/My Drive/BreakHis/Dataset/test/Tumor Class\"\n",
        "CHECK_POINT_PATH = \"../content/drive/My Drive/TCC Models/Tumor Class/{}.hdf5\"\n",
        "\n",
        "TARGET_SIZE = (175, 115)\n",
        "BATCH_SIZE = 64\n",
        "EPOCHS = 50\n",
        "\n",
        "test_datagen = ImageDataGenerator(horizontal_flip=True, vertical_flip=True)\n",
        "\n",
        "test_data_generator = test_datagen.flow_from_directory(\n",
        "    TEST_PATH,\n",
        "    target_size=TARGET_SIZE,\n",
        "    batch_size=BATCH_SIZE,\n",
        "    class_mode=\"categorical\")\n",
        "\n",
        "# tumor_class_6_data_aug-15-0.41\n",
        "#model_file_test = \"tumor_class_6_data_aug-05-0.25\"\n",
        "#model_path_test = CHECK_POINT_PATH.format(model_file_test)\n",
        "#densenet_tumor_class_test = load_model(model_path_test)"
      ],
      "execution_count": 28,
      "outputs": [
        {
          "output_type": "stream",
          "text": [
            "Found 1819 images belonging to 2 classes.\n"
          ],
          "name": "stdout"
        }
      ]
    },
    {
      "metadata": {
        "id": "i8H8kv57o-0F",
        "colab_type": "code",
        "colab": {
          "base_uri": "https://localhost:8080/",
          "height": 357
        },
        "outputId": "6f26576b-7d2a-42cb-c9e3-b8504d0fd5e6"
      },
      "cell_type": "code",
      "source": [
        "import os\n",
        "\n",
        "MODELS_PATH = r\"../content/drive/My Drive/TCC Models/Tumor Class\"\n",
        "\n",
        "models_to_evaluate = []\n",
        "\n",
        "for r, d, f in os.walk(MODELS_PATH):\n",
        "  for model in f:\n",
        "    file = model.split(\"-\")[2]\n",
        "    val_loss = file.split(\".\")[0] + \".\" + file.split(\".\")[1]\n",
        "    if float(val_loss) <= 0.60:\n",
        "      models_to_evaluate.append(model)\n",
        "      \n",
        "models_to_evaluate"
      ],
      "execution_count": 29,
      "outputs": [
        {
          "output_type": "execute_result",
          "data": {
            "text/plain": [
              "['tumor_class_data_aug-10-0.60.hdf5',\n",
              " 'tumor_class_2_data_aug-11-0.58.hdf5',\n",
              " 'tumor_class_2_data_aug-12-0.46.hdf5',\n",
              " 'tumor_class_2_data_aug-13-0.56.hdf5',\n",
              " 'tumor_class_2_data_aug-21-0.42.hdf5',\n",
              " 'tumor_class_2_data_aug-23-0.55.hdf5',\n",
              " 'tumor_class_4_data_aug-03-0.59.hdf5',\n",
              " 'tumor_class_4_data_aug-07-0.58.hdf5',\n",
              " 'tumor_class_5_data_aug-21-0.44.hdf5',\n",
              " 'tumor_class_6_data_aug-04-0.18.hdf5',\n",
              " 'tumor_class_6_data_aug-05-0.25.hdf5',\n",
              " 'tumor_class_6_data_aug-06-0.32.hdf5',\n",
              " 'tumor_class_6_data_aug-07-0.51.hdf5',\n",
              " 'tumor_class_6_data_aug-11-0.46.hdf5',\n",
              " 'tumor_class_6_data_aug-12-0.42.hdf5',\n",
              " 'tumor_class_6_data_aug-13-0.44.hdf5',\n",
              " 'tumor_class_6_data_aug-14-0.56.hdf5',\n",
              " 'tumor_class_6_data_aug-15-0.41.hdf5',\n",
              " 'tumor_class_6_data_aug-18-0.51.hdf5',\n",
              " 'tumor_class_6_data_aug-19-0.56.hdf5']"
            ]
          },
          "metadata": {
            "tags": []
          },
          "execution_count": 29
        }
      ]
    },
    {
      "metadata": {
        "id": "-sR_X_q2pOmY",
        "colab_type": "code",
        "colab": {
          "base_uri": "https://localhost:8080/",
          "height": 221
        },
        "outputId": "30bc9c9e-bf5d-41a3-847e-07bc231fe646"
      },
      "cell_type": "code",
      "source": [
        "for model in models_to_evaluate:\n",
        "  model_path = \"../content/drive/My Drive/TCC Models/Tumor Class/{}\".format(model)\n",
        "  densenet_tumor_class_test = load_model(model_path)\n",
        "  \n",
        "  test_data_generator.reset()\n",
        "  score = densenet_tumor_class_test.evaluate_generator(test_data_generator)\n",
        "  test_data_generator.reset()\n",
        "  scores = densenet_tumor_class_test.predict_generator(test_data_generator)\n",
        "  \n",
        "  print(model)\n",
        "  print(\"Loss: \", scores[0], \"Accuracy: \", scores[1])\n",
        "  print(score * 100)"
      ],
      "execution_count": 0,
      "outputs": [
        {
          "output_type": "stream",
          "text": [
            "tumor_class_data_aug-10-0.60.hdf5\n",
            "Loss:  [0.11188126 0.8881187 ] Accuracy:  [0.77968603 0.22031398]\n",
            "51.837867601164454\n",
            "tumor_class_2_data_aug-11-0.58.hdf5\n",
            "Loss:  [0.1019846  0.89801544] Accuracy:  [1. 0.]\n",
            "49.41921506462426\n",
            "tumor_class_2_data_aug-12-0.46.hdf5\n",
            "Loss:  [0.6375286 0.3624713] Accuracy:  [0.5606237  0.43937632]\n",
            "57.58921442360714\n",
            "tumor_class_2_data_aug-13-0.56.hdf5\n",
            "Loss:  [0.66493255 0.33506748] Accuracy:  [0.6853484  0.31465167]\n",
            "59.19442721481981\n"
          ],
          "name": "stdout"
        }
      ]
    },
    {
      "metadata": {
        "id": "K4HlecIss3RY",
        "colab_type": "code",
        "colab": {}
      },
      "cell_type": "code",
      "source": [
        ""
      ],
      "execution_count": 0,
      "outputs": []
    }
  ]
}